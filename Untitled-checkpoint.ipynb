{
 "cells": [
  {
   "cell_type": "code",
   "execution_count": 1,
   "id": "0f51829d",
   "metadata": {},
   "outputs": [
    {
     "name": "stdout",
     "output_type": "stream",
     "text": [
      "Enter your sequence of integers 50\n",
      "13\n"
     ]
    }
   ],
   "source": [
    "import math\n",
    "s= input('Enter your sequence of integers ')\n",
    "listS=s.split(\",\")\n",
    "resList=[]\n",
    "C=50\n",
    "H=30\n",
    "for D in listS:\n",
    "    resList.append(str(round(math.sqrt((2*int(D)*C)/H))))\n",
    "print(\",\".join(resList))"
   ]
  },
  {
   "cell_type": "code",
   "execution_count": null,
   "id": "b4dcd2c2",
   "metadata": {},
   "outputs": [],
   "source": []
  }
 ],
 "metadata": {
  "kernelspec": {
   "display_name": "Python 3 (ipykernel)",
   "language": "python",
   "name": "python3"
  },
  "language_info": {
   "codemirror_mode": {
    "name": "ipython",
    "version": 3
   },
   "file_extension": ".py",
   "mimetype": "text/x-python",
   "name": "python",
   "nbconvert_exporter": "python",
   "pygments_lexer": "ipython3",
   "version": "3.9.7"
  }
 },
 "nbformat": 4,
 "nbformat_minor": 5
}
